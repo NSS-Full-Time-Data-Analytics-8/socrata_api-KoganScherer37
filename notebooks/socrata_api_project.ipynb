{
 "cells": [
  {
   "cell_type": "code",
   "execution_count": 1,
   "id": "d84004c7",
   "metadata": {},
   "outputs": [],
   "source": [
    "import requests\n",
    "import pandas as pd\n",
    "import matplotlib.pyplot as plt\n",
    "\n",
    "%matplotlib inline"
   ]
  },
  {
   "cell_type": "code",
   "execution_count": 2,
   "id": "8d93f91d",
   "metadata": {},
   "outputs": [],
   "source": [
    "endpoint = 'https://data.nashville.gov/resource/fuaa-r5cm.json'"
   ]
  },
  {
   "cell_type": "code",
   "execution_count": 3,
   "id": "5f0dc153",
   "metadata": {},
   "outputs": [
    {
     "data": {
      "text/plain": [
       "<Response [200]>"
      ]
     },
     "execution_count": 3,
     "metadata": {},
     "output_type": "execute_result"
    }
   ],
   "source": [
    "response = requests.get(endpoint)\n",
    "response"
   ]
  },
  {
   "cell_type": "code",
   "execution_count": 36,
   "id": "6c0d9c2e",
   "metadata": {},
   "outputs": [],
   "source": [
    "result = response.json()"
   ]
  },
  {
   "cell_type": "code",
   "execution_count": 5,
   "id": "86b53755",
   "metadata": {},
   "outputs": [
    {
     "data": {
      "text/plain": [
       "1000"
      ]
     },
     "execution_count": 5,
     "metadata": {},
     "output_type": "execute_result"
    }
   ],
   "source": [
    "len(result)"
   ]
  },
  {
   "cell_type": "code",
   "execution_count": 6,
   "id": "321802df",
   "metadata": {},
   "outputs": [],
   "source": [
    "# 2016 fire seach endpoint\n",
    "fire_ep = 'https://data.nashville.gov/resource/fuaa-r5cm.json?query_text=fire&year=2016'"
   ]
  },
  {
   "cell_type": "code",
   "execution_count": 38,
   "id": "3480cee8",
   "metadata": {},
   "outputs": [
    {
     "data": {
      "text/plain": [
       "<Response [200]>"
      ]
     },
     "execution_count": 38,
     "metadata": {},
     "output_type": "execute_result"
    }
   ],
   "source": [
    "#fire endpoint response\n",
    "fire_resp = requests.get(fire_ep)\n",
    "fire_resp"
   ]
  },
  {
   "cell_type": "code",
   "execution_count": 39,
   "id": "bec218af",
   "metadata": {
    "scrolled": true
   },
   "outputs": [],
   "source": [
    "# converting fire response into json\n",
    "fire_result= fire_resp.json()"
   ]
  },
  {
   "cell_type": "code",
   "execution_count": 9,
   "id": "384a80e8",
   "metadata": {},
   "outputs": [],
   "source": [
    "# pulling out month and query count\n",
    "search_dict = {}\n",
    "\n",
    "for line in fire_result:\n",
    "    month = line.get('month_name')\n",
    "    count = int(line.get('query_count'))\n",
    "    if month in search_dict:\n",
    "        search_dict[month] += count\n",
    "    else:\n",
    "        search_dict[month] = count"
   ]
  },
  {
   "cell_type": "code",
   "execution_count": 10,
   "id": "258b0195",
   "metadata": {},
   "outputs": [
    {
     "data": {
      "text/html": [
       "<div>\n",
       "<style scoped>\n",
       "    .dataframe tbody tr th:only-of-type {\n",
       "        vertical-align: middle;\n",
       "    }\n",
       "\n",
       "    .dataframe tbody tr th {\n",
       "        vertical-align: top;\n",
       "    }\n",
       "\n",
       "    .dataframe thead th {\n",
       "        text-align: right;\n",
       "    }\n",
       "</style>\n",
       "<table border=\"1\" class=\"dataframe\">\n",
       "  <thead>\n",
       "    <tr style=\"text-align: right;\">\n",
       "      <th></th>\n",
       "      <th>month</th>\n",
       "      <th>search_count</th>\n",
       "    </tr>\n",
       "  </thead>\n",
       "  <tbody>\n",
       "    <tr>\n",
       "      <th>0</th>\n",
       "      <td>January</td>\n",
       "      <td>19</td>\n",
       "    </tr>\n",
       "    <tr>\n",
       "      <th>1</th>\n",
       "      <td>February</td>\n",
       "      <td>35</td>\n",
       "    </tr>\n",
       "    <tr>\n",
       "      <th>2</th>\n",
       "      <td>March</td>\n",
       "      <td>32</td>\n",
       "    </tr>\n",
       "    <tr>\n",
       "      <th>3</th>\n",
       "      <td>April</td>\n",
       "      <td>26</td>\n",
       "    </tr>\n",
       "    <tr>\n",
       "      <th>4</th>\n",
       "      <td>May</td>\n",
       "      <td>24</td>\n",
       "    </tr>\n",
       "    <tr>\n",
       "      <th>5</th>\n",
       "      <td>June</td>\n",
       "      <td>31</td>\n",
       "    </tr>\n",
       "    <tr>\n",
       "      <th>6</th>\n",
       "      <td>July</td>\n",
       "      <td>24</td>\n",
       "    </tr>\n",
       "    <tr>\n",
       "      <th>7</th>\n",
       "      <td>August</td>\n",
       "      <td>47</td>\n",
       "    </tr>\n",
       "    <tr>\n",
       "      <th>8</th>\n",
       "      <td>September</td>\n",
       "      <td>36</td>\n",
       "    </tr>\n",
       "    <tr>\n",
       "      <th>9</th>\n",
       "      <td>October</td>\n",
       "      <td>38</td>\n",
       "    </tr>\n",
       "    <tr>\n",
       "      <th>10</th>\n",
       "      <td>November</td>\n",
       "      <td>32</td>\n",
       "    </tr>\n",
       "    <tr>\n",
       "      <th>11</th>\n",
       "      <td>December</td>\n",
       "      <td>38</td>\n",
       "    </tr>\n",
       "  </tbody>\n",
       "</table>\n",
       "</div>"
      ],
      "text/plain": [
       "        month  search_count\n",
       "0     January            19\n",
       "1    February            35\n",
       "2       March            32\n",
       "3       April            26\n",
       "4         May            24\n",
       "5        June            31\n",
       "6        July            24\n",
       "7      August            47\n",
       "8   September            36\n",
       "9     October            38\n",
       "10   November            32\n",
       "11   December            38"
      ]
     },
     "execution_count": 10,
     "metadata": {},
     "output_type": "execute_result"
    }
   ],
   "source": [
    "#converting to dataframe and setting column names\n",
    "fire_2016_df = pd.DataFrame.from_dict(search_dict, orient = 'index')\n",
    "fire_2016_df = fire_2016_df.reset_index()\n",
    "fire_2016_df.columns = ['month','search_count']\n",
    "fire_2016_df"
   ]
  },
  {
   "cell_type": "markdown",
   "id": "fc02bcc3",
   "metadata": {},
   "source": [
    "##### Question 1. Make an API request that returns the months where \"fire\" was searched in 2016. Which month had the most searches?  \n",
    "\n",
    "Answer: August"
   ]
  },
  {
   "cell_type": "code",
   "execution_count": 11,
   "id": "c7012593",
   "metadata": {},
   "outputs": [
    {
     "data": {
      "text/plain": [
       "<Response [200]>"
      ]
     },
     "execution_count": 11,
     "metadata": {},
     "output_type": "execute_result"
    }
   ],
   "source": [
    "params_100q_c = { '$where' : 'query_count > 100'}\n",
    "\n",
    "qry_count_resp = requests.get(endpoint, params = params_100q_c)\n",
    "qry_count_resp"
   ]
  },
  {
   "cell_type": "code",
   "execution_count": 40,
   "id": "8ae63a84",
   "metadata": {},
   "outputs": [],
   "source": [
    "qry_count_result = qry_count_resp.json()"
   ]
  },
  {
   "cell_type": "code",
   "execution_count": 13,
   "id": "f5aeae1d",
   "metadata": {},
   "outputs": [
    {
     "data": {
      "text/plain": [
       "1000"
      ]
     },
     "execution_count": 13,
     "metadata": {},
     "output_type": "execute_result"
    }
   ],
   "source": [
    "len(qry_count_result)"
   ]
  },
  {
   "cell_type": "markdown",
   "id": "f4172ff3",
   "metadata": {},
   "source": [
    "#### Question 2. Make an API request that returns all the times a query was run more than 100 times in a month. How many times did this occur?  \n",
    "\n",
    "Answer: 1000"
   ]
  },
  {
   "cell_type": "code",
   "execution_count": 14,
   "id": "9963e3e9",
   "metadata": {},
   "outputs": [
    {
     "data": {
      "text/plain": [
       "<Response [200]>"
      ]
     },
     "execution_count": 14,
     "metadata": {},
     "output_type": "execute_result"
    }
   ],
   "source": [
    "#params for 100 plus queries per month\n",
    "\n",
    "params_100q = { '$where' : 'query_count > 100',\n",
    "                'query_text' : 'codes'}\n",
    "\n",
    "qry_count_code_resp = requests.get(endpoint, params = params_100q)\n",
    "qry_count_code_resp"
   ]
  },
  {
   "cell_type": "code",
   "execution_count": 42,
   "id": "a0113443",
   "metadata": {},
   "outputs": [],
   "source": [
    "#converting to json\n",
    "qry_code_count_result = qry_count_code_resp.json()"
   ]
  },
  {
   "cell_type": "code",
   "execution_count": 16,
   "id": "9fc2dc8d",
   "metadata": {},
   "outputs": [],
   "source": [
    "#setting up dictionary\n",
    "query_dict = {}\n",
    "\n",
    "for lines in qry_code_count_result:\n",
    "    months = lines.get('month_name')\n",
    "    counts = int(lines.get('query_count'))\n",
    "    \n",
    "    if months in query_dict:\n",
    "        query_dict[months] += counts\n",
    "    else:\n",
    "        query_dict[months] = counts"
   ]
  },
  {
   "cell_type": "code",
   "execution_count": 17,
   "id": "9d2aaa92",
   "metadata": {},
   "outputs": [
    {
     "data": {
      "text/html": [
       "<div>\n",
       "<style scoped>\n",
       "    .dataframe tbody tr th:only-of-type {\n",
       "        vertical-align: middle;\n",
       "    }\n",
       "\n",
       "    .dataframe tbody tr th {\n",
       "        vertical-align: top;\n",
       "    }\n",
       "\n",
       "    .dataframe thead th {\n",
       "        text-align: right;\n",
       "    }\n",
       "</style>\n",
       "<table border=\"1\" class=\"dataframe\">\n",
       "  <thead>\n",
       "    <tr style=\"text-align: right;\">\n",
       "      <th></th>\n",
       "      <th>month</th>\n",
       "      <th>code_counts</th>\n",
       "    </tr>\n",
       "  </thead>\n",
       "  <tbody>\n",
       "    <tr>\n",
       "      <th>0</th>\n",
       "      <td>September</td>\n",
       "      <td>696</td>\n",
       "    </tr>\n",
       "    <tr>\n",
       "      <th>1</th>\n",
       "      <td>April</td>\n",
       "      <td>741</td>\n",
       "    </tr>\n",
       "    <tr>\n",
       "      <th>2</th>\n",
       "      <td>August</td>\n",
       "      <td>1002</td>\n",
       "    </tr>\n",
       "    <tr>\n",
       "      <th>3</th>\n",
       "      <td>November</td>\n",
       "      <td>577</td>\n",
       "    </tr>\n",
       "    <tr>\n",
       "      <th>4</th>\n",
       "      <td>December</td>\n",
       "      <td>414</td>\n",
       "    </tr>\n",
       "    <tr>\n",
       "      <th>5</th>\n",
       "      <td>May</td>\n",
       "      <td>858</td>\n",
       "    </tr>\n",
       "    <tr>\n",
       "      <th>6</th>\n",
       "      <td>July</td>\n",
       "      <td>820</td>\n",
       "    </tr>\n",
       "    <tr>\n",
       "      <th>7</th>\n",
       "      <td>January</td>\n",
       "      <td>596</td>\n",
       "    </tr>\n",
       "    <tr>\n",
       "      <th>8</th>\n",
       "      <td>February</td>\n",
       "      <td>707</td>\n",
       "    </tr>\n",
       "    <tr>\n",
       "      <th>9</th>\n",
       "      <td>June</td>\n",
       "      <td>867</td>\n",
       "    </tr>\n",
       "    <tr>\n",
       "      <th>10</th>\n",
       "      <td>March</td>\n",
       "      <td>774</td>\n",
       "    </tr>\n",
       "    <tr>\n",
       "      <th>11</th>\n",
       "      <td>October</td>\n",
       "      <td>678</td>\n",
       "    </tr>\n",
       "  </tbody>\n",
       "</table>\n",
       "</div>"
      ],
      "text/plain": [
       "        month  code_counts\n",
       "0   September          696\n",
       "1       April          741\n",
       "2      August         1002\n",
       "3    November          577\n",
       "4    December          414\n",
       "5         May          858\n",
       "6        July          820\n",
       "7     January          596\n",
       "8    February          707\n",
       "9        June          867\n",
       "10      March          774\n",
       "11    October          678"
      ]
     },
     "execution_count": 17,
     "metadata": {},
     "output_type": "execute_result"
    }
   ],
   "source": [
    "#turning dictionary into dataframe\n",
    "qry_count_df = pd.DataFrame.from_dict(query_dict, orient = 'index')\n",
    "qry_count_df = qry_count_df.reset_index()\n",
    "qry_count_df.columns = ['month','code_counts']\n",
    "qry_count_df"
   ]
  },
  {
   "cell_type": "code",
   "execution_count": 18,
   "id": "2be124ea",
   "metadata": {},
   "outputs": [
    {
     "data": {
      "text/plain": [
       "56"
      ]
     },
     "execution_count": 18,
     "metadata": {},
     "output_type": "execute_result"
    }
   ],
   "source": [
    "#total code counts\n",
    "len(qry_code_count_result)"
   ]
  },
  {
   "cell_type": "markdown",
   "id": "dac178b2",
   "metadata": {},
   "source": [
    "#### Question 3. Make another API request that returns all the times \"codes\" was searched more than 100 times in a month. How many times did this occur? \n",
    "\n",
    "Answer: 56"
   ]
  },
  {
   "cell_type": "code",
   "execution_count": 25,
   "id": "3763da6b",
   "metadata": {},
   "outputs": [
    {
     "data": {
      "text/plain": [
       "<Response [200]>"
      ]
     },
     "execution_count": 25,
     "metadata": {},
     "output_type": "execute_result"
    }
   ],
   "source": [
    "#parameters for full dataset\n",
    "params_full_ds = {'$limit' : '50000'}\n",
    "\n",
    "full_dataset_resp = requests.get(endpoint, params = params_full_ds)\n",
    "full_dataset_resp"
   ]
  },
  {
   "cell_type": "code",
   "execution_count": 41,
   "id": "909d0f0a",
   "metadata": {},
   "outputs": [],
   "source": [
    "top_500_searches = full_dataset_resp.json()"
   ]
  },
  {
   "cell_type": "code",
   "execution_count": 27,
   "id": "8ac8b606",
   "metadata": {},
   "outputs": [
    {
     "data": {
      "text/plain": [
       "43677"
      ]
     },
     "execution_count": 27,
     "metadata": {},
     "output_type": "execute_result"
    }
   ],
   "source": [
    "len(top_500_searches)"
   ]
  },
  {
   "cell_type": "code",
   "execution_count": null,
   "id": "5c120790",
   "metadata": {},
   "outputs": [],
   "source": []
  }
 ],
 "metadata": {
  "kernelspec": {
   "display_name": "Python 3 (ipykernel)",
   "language": "python",
   "name": "python3"
  },
  "language_info": {
   "codemirror_mode": {
    "name": "ipython",
    "version": 3
   },
   "file_extension": ".py",
   "mimetype": "text/x-python",
   "name": "python",
   "nbconvert_exporter": "python",
   "pygments_lexer": "ipython3",
   "version": "3.9.13"
  }
 },
 "nbformat": 4,
 "nbformat_minor": 5
}
