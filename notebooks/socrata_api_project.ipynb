{
 "cells": [
  {
   "cell_type": "code",
   "execution_count": 1,
   "id": "67fba409",
   "metadata": {},
   "outputs": [],
   "source": [
    "import requests\n",
    "import pandas as pd\n",
    "import matplotlib.pyplot as plt\n",
    "\n",
    "%matplotlib inline"
   ]
  },
  {
   "cell_type": "code",
   "execution_count": 2,
   "id": "16978845",
   "metadata": {},
   "outputs": [],
   "source": [
    "endpoint = 'https://data.nashville.gov/resource/fuaa-r5cm.json'"
   ]
  },
  {
   "cell_type": "code",
   "execution_count": 3,
   "id": "de2f2987",
   "metadata": {},
   "outputs": [
    {
     "data": {
      "text/plain": [
       "<Response [200]>"
      ]
     },
     "execution_count": 3,
     "metadata": {},
     "output_type": "execute_result"
    }
   ],
   "source": [
    "response = requests.get(endpoint)\n",
    "response"
   ]
  },
  {
   "cell_type": "code",
   "execution_count": 36,
   "id": "ffab463c",
   "metadata": {},
   "outputs": [],
   "source": [
    "result = response.json()"
   ]
  },
  {
   "cell_type": "code",
   "execution_count": 5,
   "id": "0c5048e2",
   "metadata": {},
   "outputs": [
    {
     "data": {
      "text/plain": [
       "1000"
      ]
     },
     "execution_count": 5,
     "metadata": {},
     "output_type": "execute_result"
    }
   ],
   "source": [
    "len(result)"
   ]
  },
  {
   "cell_type": "code",
   "execution_count": 6,
   "id": "9fbdfa69",
   "metadata": {},
   "outputs": [],
   "source": [
    "# 2016 fire seach endpoint\n",
    "fire_ep = 'https://data.nashville.gov/resource/fuaa-r5cm.json?query_text=fire&year=2016'"
   ]
  },
  {
   "cell_type": "code",
   "execution_count": 38,
   "id": "473c0f8d",
   "metadata": {},
   "outputs": [
    {
     "data": {
      "text/plain": [
       "<Response [200]>"
      ]
     },
     "execution_count": 38,
     "metadata": {},
     "output_type": "execute_result"
    }
   ],
   "source": [
    "#fire endpoint response\n",
    "fire_resp = requests.get(fire_ep)\n",
    "fire_resp"
   ]
  },
  {
   "cell_type": "code",
   "execution_count": 39,
   "id": "98e38a58",
   "metadata": {
    "scrolled": true
   },
   "outputs": [],
   "source": [
    "# converting fire response into json\n",
    "fire_result= fire_resp.json()"
   ]
  },
  {
   "cell_type": "code",
   "execution_count": 9,
   "id": "5a8ac96e",
   "metadata": {},
   "outputs": [],
   "source": [
    "# pulling out month and query count\n",
    "search_dict = {}\n",
    "\n",
    "for line in fire_result:\n",
    "    month = line.get('month_name')\n",
    "    count = int(line.get('query_count'))\n",
    "    if month in search_dict:\n",
    "        search_dict[month] += count\n",
    "    else:\n",
    "        search_dict[month] = count"
   ]
  },
  {
   "cell_type": "code",
   "execution_count": 10,
   "id": "436d3d72",
   "metadata": {},
   "outputs": [
    {
     "data": {
      "text/html": [
       "<div>\n",
       "<style scoped>\n",
       "    .dataframe tbody tr th:only-of-type {\n",
       "        vertical-align: middle;\n",
       "    }\n",
       "\n",
       "    .dataframe tbody tr th {\n",
       "        vertical-align: top;\n",
       "    }\n",
       "\n",
       "    .dataframe thead th {\n",
       "        text-align: right;\n",
       "    }\n",
       "</style>\n",
       "<table border=\"1\" class=\"dataframe\">\n",
       "  <thead>\n",
       "    <tr style=\"text-align: right;\">\n",
       "      <th></th>\n",
       "      <th>month</th>\n",
       "      <th>search_count</th>\n",
       "    </tr>\n",
       "  </thead>\n",
       "  <tbody>\n",
       "    <tr>\n",
       "      <th>0</th>\n",
       "      <td>January</td>\n",
       "      <td>19</td>\n",
       "    </tr>\n",
       "    <tr>\n",
       "      <th>1</th>\n",
       "      <td>February</td>\n",
       "      <td>35</td>\n",
       "    </tr>\n",
       "    <tr>\n",
       "      <th>2</th>\n",
       "      <td>March</td>\n",
       "      <td>32</td>\n",
       "    </tr>\n",
       "    <tr>\n",
       "      <th>3</th>\n",
       "      <td>April</td>\n",
       "      <td>26</td>\n",
       "    </tr>\n",
       "    <tr>\n",
       "      <th>4</th>\n",
       "      <td>May</td>\n",
       "      <td>24</td>\n",
       "    </tr>\n",
       "    <tr>\n",
       "      <th>5</th>\n",
       "      <td>June</td>\n",
       "      <td>31</td>\n",
       "    </tr>\n",
       "    <tr>\n",
       "      <th>6</th>\n",
       "      <td>July</td>\n",
       "      <td>24</td>\n",
       "    </tr>\n",
       "    <tr>\n",
       "      <th>7</th>\n",
       "      <td>August</td>\n",
       "      <td>47</td>\n",
       "    </tr>\n",
       "    <tr>\n",
       "      <th>8</th>\n",
       "      <td>September</td>\n",
       "      <td>36</td>\n",
       "    </tr>\n",
       "    <tr>\n",
       "      <th>9</th>\n",
       "      <td>October</td>\n",
       "      <td>38</td>\n",
       "    </tr>\n",
       "    <tr>\n",
       "      <th>10</th>\n",
       "      <td>November</td>\n",
       "      <td>32</td>\n",
       "    </tr>\n",
       "    <tr>\n",
       "      <th>11</th>\n",
       "      <td>December</td>\n",
       "      <td>38</td>\n",
       "    </tr>\n",
       "  </tbody>\n",
       "</table>\n",
       "</div>"
      ],
      "text/plain": [
       "        month  search_count\n",
       "0     January            19\n",
       "1    February            35\n",
       "2       March            32\n",
       "3       April            26\n",
       "4         May            24\n",
       "5        June            31\n",
       "6        July            24\n",
       "7      August            47\n",
       "8   September            36\n",
       "9     October            38\n",
       "10   November            32\n",
       "11   December            38"
      ]
     },
     "execution_count": 10,
     "metadata": {},
     "output_type": "execute_result"
    }
   ],
   "source": [
    "#converting to dataframe and setting column names\n",
    "fire_2016_df = pd.DataFrame.from_dict(search_dict, orient = 'index')\n",
    "fire_2016_df = fire_2016_df.reset_index()\n",
    "fire_2016_df.columns = ['month','search_count']\n",
    "fire_2016_df"
   ]
  },
  {
   "cell_type": "markdown",
   "id": "cf875c04",
   "metadata": {},
   "source": [
    "##### Question 1. Make an API request that returns the months where \"fire\" was searched in 2016. Which month had the most searches?  \n",
    "\n",
    "Answer: August"
   ]
  },
  {
   "cell_type": "code",
   "execution_count": 11,
   "id": "b32a4995",
   "metadata": {},
   "outputs": [
    {
     "data": {
      "text/plain": [
       "<Response [200]>"
      ]
     },
     "execution_count": 11,
     "metadata": {},
     "output_type": "execute_result"
    }
   ],
   "source": [
    "params_100q_c = { '$where' : 'query_count > 100'}\n",
    "\n",
    "qry_count_resp = requests.get(endpoint, params = params_100q_c)\n",
    "qry_count_resp"
   ]
  },
  {
   "cell_type": "code",
   "execution_count": 40,
   "id": "54f193e1",
   "metadata": {},
   "outputs": [],
   "source": [
    "qry_count_result = qry_count_resp.json()"
   ]
  },
  {
   "cell_type": "code",
   "execution_count": 13,
   "id": "f306931d",
   "metadata": {},
   "outputs": [
    {
     "data": {
      "text/plain": [
       "1000"
      ]
     },
     "execution_count": 13,
     "metadata": {},
     "output_type": "execute_result"
    }
   ],
   "source": [
    "len(qry_count_result)"
   ]
  },
  {
   "cell_type": "markdown",
   "id": "a2731fe4",
   "metadata": {},
   "source": [
    "#### Question 2. Make an API request that returns all the times a query was run more than 100 times in a month. How many times did this occur?  \n",
    "\n",
    "Answer: 1000"
   ]
  },
  {
   "cell_type": "code",
   "execution_count": 14,
   "id": "1b71c562",
   "metadata": {},
   "outputs": [
    {
     "data": {
      "text/plain": [
       "<Response [200]>"
      ]
     },
     "execution_count": 14,
     "metadata": {},
     "output_type": "execute_result"
    }
   ],
   "source": [
    "#params for 100 plus queries per month\n",
    "\n",
    "params_100q = { '$where' : 'query_count > 100',\n",
    "                'query_text' : 'codes'}\n",
    "\n",
    "qry_count_code_resp = requests.get(endpoint, params = params_100q)\n",
    "qry_count_code_resp"
   ]
  },
  {
   "cell_type": "code",
   "execution_count": 15,
   "id": "fc2ef0dc",
   "metadata": {
    "collapsed": true
   },
   "outputs": [
    {
     "data": {
      "text/plain": [
       "[{'month_name': 'September',\n",
       "  'year': '2015',\n",
       "  'query_count': '101',\n",
       "  'query_text': 'codes'},\n",
       " {'month_name': 'April',\n",
       "  'month': '4',\n",
       "  'year': '2021',\n",
       "  'query_count': '102',\n",
       "  'query_text': 'codes'},\n",
       " {'month_name': 'August',\n",
       "  'year': '2016',\n",
       "  'query_count': '104',\n",
       "  'query_text': 'codes'},\n",
       " {'month_name': 'November',\n",
       "  'month': '11',\n",
       "  'year': '2020',\n",
       "  'query_count': '104',\n",
       "  'query_text': 'codes'},\n",
       " {'month_name': 'December',\n",
       "  'year': '2017',\n",
       "  'query_count': '106',\n",
       "  'query_text': 'codes'},\n",
       " {'month_name': 'May',\n",
       "  'year': '2016',\n",
       "  'query_count': '107',\n",
       "  'query_text': 'codes'},\n",
       " {'month_name': 'April',\n",
       "  'year': '2016',\n",
       "  'query_count': '111',\n",
       "  'query_text': 'codes'},\n",
       " {'month_name': 'July',\n",
       "  'month': '7',\n",
       "  'year': '2021',\n",
       "  'query_count': '114',\n",
       "  'query_text': 'codes'},\n",
       " {'month_name': 'January',\n",
       "  'year': '2017',\n",
       "  'query_count': '115',\n",
       "  'query_text': 'codes'},\n",
       " {'month_name': 'May',\n",
       "  'month': '5',\n",
       "  'year': '2021',\n",
       "  'query_count': '115',\n",
       "  'query_text': 'codes'},\n",
       " {'month_name': 'August',\n",
       "  'year': '2015',\n",
       "  'query_count': '117',\n",
       "  'query_text': 'codes'},\n",
       " {'month_name': 'February',\n",
       "  'year': '2016',\n",
       "  'query_count': '121',\n",
       "  'query_text': 'codes'},\n",
       " {'month_name': 'February',\n",
       "  'month': '2',\n",
       "  'year': '2019',\n",
       "  'query_count': '124',\n",
       "  'query_text': 'codes'},\n",
       " {'month_name': 'June',\n",
       "  'month': '6',\n",
       "  'year': '2019',\n",
       "  'query_count': '125',\n",
       "  'query_text': 'codes'},\n",
       " {'month_name': 'September',\n",
       "  'month': '9',\n",
       "  'year': '2019',\n",
       "  'query_count': '126',\n",
       "  'query_text': 'codes'},\n",
       " {'month_name': 'January',\n",
       "  'month': '1',\n",
       "  'year': '2019',\n",
       "  'query_count': '129',\n",
       "  'query_text': 'codes'},\n",
       " {'month_name': 'September',\n",
       "  'month': '9',\n",
       "  'year': '2020',\n",
       "  'query_count': '130',\n",
       "  'query_text': 'codes'},\n",
       " {'month_name': 'February',\n",
       "  'month': '2',\n",
       "  'year': '2021',\n",
       "  'query_count': '131',\n",
       "  'query_text': 'codes'},\n",
       " {'month_name': 'March',\n",
       "  'month': '3',\n",
       "  'year': '2019',\n",
       "  'query_count': '133',\n",
       "  'query_text': 'codes'},\n",
       " {'month_name': 'November',\n",
       "  'month': '11',\n",
       "  'year': '2019',\n",
       "  'query_count': '134',\n",
       "  'query_text': 'codes'},\n",
       " {'month_name': 'March',\n",
       "  'month': '3',\n",
       "  'year': '2021',\n",
       "  'query_count': '134',\n",
       "  'query_text': 'codes'},\n",
       " {'month_name': 'November',\n",
       "  'year': '2017',\n",
       "  'query_count': '138',\n",
       "  'query_text': 'codes'},\n",
       " {'month_name': 'June',\n",
       "  'month': '6',\n",
       "  'year': '2021',\n",
       "  'query_count': '138',\n",
       "  'query_text': 'codes'},\n",
       " {'month_name': 'October',\n",
       "  'month': '10',\n",
       "  'year': '2020',\n",
       "  'query_count': '139',\n",
       "  'query_text': 'codes'},\n",
       " {'month_name': 'December',\n",
       "  'month': '12',\n",
       "  'year': '2019',\n",
       "  'query_count': '143',\n",
       "  'query_text': 'codes'},\n",
       " {'month_name': 'February',\n",
       "  'year': '2017',\n",
       "  'query_count': '150',\n",
       "  'query_text': 'codes'},\n",
       " {'month_name': 'August',\n",
       "  'month': '8',\n",
       "  'year': '2019',\n",
       "  'query_count': '156',\n",
       "  'query_text': 'codes'},\n",
       " {'month_name': 'March',\n",
       "  'year': '2017',\n",
       "  'query_count': '158',\n",
       "  'query_text': 'codes'},\n",
       " {'month_name': 'October',\n",
       "  'month': '10',\n",
       "  'year': '2019',\n",
       "  'query_count': '159',\n",
       "  'query_text': 'codes'},\n",
       " {'month_name': 'July',\n",
       "  'month': '7',\n",
       "  'year': '2019',\n",
       "  'query_count': '161',\n",
       "  'query_text': 'codes'},\n",
       " {'month_name': 'January',\n",
       "  'month': '1',\n",
       "  'year': '2020',\n",
       "  'query_count': '161',\n",
       "  'query_text': 'codes'},\n",
       " {'month_name': 'March',\n",
       "  'month': '3',\n",
       "  'year': '2020',\n",
       "  'query_count': '164',\n",
       "  'query_text': 'codes'},\n",
       " {'month_name': 'July',\n",
       "  'month': '7',\n",
       "  'year': '2020',\n",
       "  'query_count': '164',\n",
       "  'query_text': 'codes'},\n",
       " {'month_name': 'December',\n",
       "  'month': '12',\n",
       "  'year': '2020',\n",
       "  'query_count': '165',\n",
       "  'query_text': 'codes'},\n",
       " {'month_name': 'July',\n",
       "  'year': '2018',\n",
       "  'query_count': '166',\n",
       "  'query_text': 'codes'},\n",
       " {'month_name': 'September',\n",
       "  'year': '2017',\n",
       "  'query_count': '168',\n",
       "  'query_text': 'codes'},\n",
       " {'month_name': 'April',\n",
       "  'month': '4',\n",
       "  'year': '2019',\n",
       "  'query_count': '168',\n",
       "  'query_text': 'codes'},\n",
       " {'month_name': 'April',\n",
       "  'year': '2018',\n",
       "  'query_count': '170',\n",
       "  'query_text': 'codes'},\n",
       " {'month_name': 'September',\n",
       "  'year': '2018',\n",
       "  'query_count': '171',\n",
       "  'query_text': 'codes'},\n",
       " {'month_name': 'October',\n",
       "  'year': '2018',\n",
       "  'query_count': '174',\n",
       "  'query_text': 'codes'},\n",
       " {'month_name': 'August',\n",
       "  'month': '8',\n",
       "  'year': '2020',\n",
       "  'query_count': '178',\n",
       "  'query_text': 'codes'},\n",
       " {'month_name': 'February',\n",
       "  'month': '2',\n",
       "  'year': '2020',\n",
       "  'query_count': '181',\n",
       "  'query_text': 'codes'},\n",
       " {'month_name': 'May',\n",
       "  'year': '2018',\n",
       "  'query_count': '183',\n",
       "  'query_text': 'codes'},\n",
       " {'month_name': 'May',\n",
       "  'month': '5',\n",
       "  'year': '2020',\n",
       "  'query_count': '184',\n",
       "  'query_text': 'codes'},\n",
       " {'month_name': 'March',\n",
       "  'year': '2018',\n",
       "  'query_count': '185',\n",
       "  'query_text': 'codes'},\n",
       " {'month_name': 'April',\n",
       "  'year': '2017',\n",
       "  'query_count': '190',\n",
       "  'query_text': 'codes'},\n",
       " {'month_name': 'January',\n",
       "  'month': '1',\n",
       "  'year': '2021',\n",
       "  'query_count': '191',\n",
       "  'query_text': 'codes'},\n",
       " {'month_name': 'June',\n",
       "  'year': '2017',\n",
       "  'query_count': '192',\n",
       "  'query_text': 'codes'},\n",
       " {'month_name': 'November',\n",
       "  'year': '2018',\n",
       "  'query_count': '201',\n",
       "  'query_text': 'codes'},\n",
       " {'month_name': 'June',\n",
       "  'year': '2018',\n",
       "  'query_count': '204',\n",
       "  'query_text': 'codes'},\n",
       " {'month_name': 'October',\n",
       "  'year': '2017',\n",
       "  'query_count': '206',\n",
       "  'query_text': 'codes'},\n",
       " {'month_name': 'June',\n",
       "  'month': '6',\n",
       "  'year': '2020',\n",
       "  'query_count': '208',\n",
       "  'query_text': 'codes'},\n",
       " {'month_name': 'July',\n",
       "  'year': '2017',\n",
       "  'query_count': '215',\n",
       "  'query_text': 'codes'},\n",
       " {'month_name': 'August',\n",
       "  'year': '2017',\n",
       "  'query_count': '222',\n",
       "  'query_text': 'codes'},\n",
       " {'month_name': 'August',\n",
       "  'year': '2018',\n",
       "  'query_count': '225',\n",
       "  'query_text': 'codes'},\n",
       " {'month_name': 'May',\n",
       "  'year': '2017',\n",
       "  'query_count': '269',\n",
       "  'query_text': 'codes'}]"
      ]
     },
     "execution_count": 15,
     "metadata": {},
     "output_type": "execute_result"
    }
   ],
   "source": [
    "#converting to json\n",
    "qry_code_count_result = qry_count_code_resp.json()\n",
    "qry_code_count_result"
   ]
  },
  {
   "cell_type": "code",
   "execution_count": 16,
   "id": "0767da65",
   "metadata": {},
   "outputs": [],
   "source": [
    "#setting up dictionary\n",
    "query_dict = {}\n",
    "\n",
    "for lines in qry_code_count_result:\n",
    "    months = lines.get('month_name')\n",
    "    counts = int(lines.get('query_count'))\n",
    "    \n",
    "    if months in query_dict:\n",
    "        query_dict[months] += counts\n",
    "    else:\n",
    "        query_dict[months] = counts"
   ]
  },
  {
   "cell_type": "code",
   "execution_count": 17,
   "id": "a4846126",
   "metadata": {},
   "outputs": [
    {
     "data": {
      "text/html": [
       "<div>\n",
       "<style scoped>\n",
       "    .dataframe tbody tr th:only-of-type {\n",
       "        vertical-align: middle;\n",
       "    }\n",
       "\n",
       "    .dataframe tbody tr th {\n",
       "        vertical-align: top;\n",
       "    }\n",
       "\n",
       "    .dataframe thead th {\n",
       "        text-align: right;\n",
       "    }\n",
       "</style>\n",
       "<table border=\"1\" class=\"dataframe\">\n",
       "  <thead>\n",
       "    <tr style=\"text-align: right;\">\n",
       "      <th></th>\n",
       "      <th>month</th>\n",
       "      <th>code_counts</th>\n",
       "    </tr>\n",
       "  </thead>\n",
       "  <tbody>\n",
       "    <tr>\n",
       "      <th>0</th>\n",
       "      <td>September</td>\n",
       "      <td>696</td>\n",
       "    </tr>\n",
       "    <tr>\n",
       "      <th>1</th>\n",
       "      <td>April</td>\n",
       "      <td>741</td>\n",
       "    </tr>\n",
       "    <tr>\n",
       "      <th>2</th>\n",
       "      <td>August</td>\n",
       "      <td>1002</td>\n",
       "    </tr>\n",
       "    <tr>\n",
       "      <th>3</th>\n",
       "      <td>November</td>\n",
       "      <td>577</td>\n",
       "    </tr>\n",
       "    <tr>\n",
       "      <th>4</th>\n",
       "      <td>December</td>\n",
       "      <td>414</td>\n",
       "    </tr>\n",
       "    <tr>\n",
       "      <th>5</th>\n",
       "      <td>May</td>\n",
       "      <td>858</td>\n",
       "    </tr>\n",
       "    <tr>\n",
       "      <th>6</th>\n",
       "      <td>July</td>\n",
       "      <td>820</td>\n",
       "    </tr>\n",
       "    <tr>\n",
       "      <th>7</th>\n",
       "      <td>January</td>\n",
       "      <td>596</td>\n",
       "    </tr>\n",
       "    <tr>\n",
       "      <th>8</th>\n",
       "      <td>February</td>\n",
       "      <td>707</td>\n",
       "    </tr>\n",
       "    <tr>\n",
       "      <th>9</th>\n",
       "      <td>June</td>\n",
       "      <td>867</td>\n",
       "    </tr>\n",
       "    <tr>\n",
       "      <th>10</th>\n",
       "      <td>March</td>\n",
       "      <td>774</td>\n",
       "    </tr>\n",
       "    <tr>\n",
       "      <th>11</th>\n",
       "      <td>October</td>\n",
       "      <td>678</td>\n",
       "    </tr>\n",
       "  </tbody>\n",
       "</table>\n",
       "</div>"
      ],
      "text/plain": [
       "        month  code_counts\n",
       "0   September          696\n",
       "1       April          741\n",
       "2      August         1002\n",
       "3    November          577\n",
       "4    December          414\n",
       "5         May          858\n",
       "6        July          820\n",
       "7     January          596\n",
       "8    February          707\n",
       "9        June          867\n",
       "10      March          774\n",
       "11    October          678"
      ]
     },
     "execution_count": 17,
     "metadata": {},
     "output_type": "execute_result"
    }
   ],
   "source": [
    "#turning dictionary into dataframe\n",
    "qry_count_df = pd.DataFrame.from_dict(query_dict, orient = 'index')\n",
    "qry_count_df = qry_count_df.reset_index()\n",
    "qry_count_df.columns = ['month','code_counts']\n",
    "qry_count_df"
   ]
  },
  {
   "cell_type": "code",
   "execution_count": 18,
   "id": "c0213af0",
   "metadata": {},
   "outputs": [
    {
     "data": {
      "text/plain": [
       "56"
      ]
     },
     "execution_count": 18,
     "metadata": {},
     "output_type": "execute_result"
    }
   ],
   "source": [
    "#total code counts\n",
    "len(qry_code_count_result)"
   ]
  },
  {
   "cell_type": "markdown",
   "id": "4560f963",
   "metadata": {},
   "source": [
    "#### Question 3. Make another API request that returns all the times \"codes\" was searched more than 100 times in a month. How many times did this occur? \n",
    "\n",
    "Answer: 56"
   ]
  },
  {
   "cell_type": "code",
   "execution_count": 25,
   "id": "bca269a0",
   "metadata": {},
   "outputs": [
    {
     "data": {
      "text/plain": [
       "<Response [200]>"
      ]
     },
     "execution_count": 25,
     "metadata": {},
     "output_type": "execute_result"
    }
   ],
   "source": [
    "#parameters for full dataset\n",
    "params_full_ds = {'$limit' : '50000'}\n",
    "\n",
    "full_dataset_resp = requests.get(endpoint, params = params_full_ds)\n",
    "full_dataset_resp"
   ]
  },
  {
   "cell_type": "code",
   "execution_count": 41,
   "id": "ee40b9fe",
   "metadata": {},
   "outputs": [],
   "source": [
    "top_500_searches = full_dataset_resp.json()"
   ]
  },
  {
   "cell_type": "code",
   "execution_count": 27,
   "id": "acb48cd1",
   "metadata": {},
   "outputs": [
    {
     "data": {
      "text/plain": [
       "43677"
      ]
     },
     "execution_count": 27,
     "metadata": {},
     "output_type": "execute_result"
    }
   ],
   "source": [
    "len(top_500_searches)"
   ]
  },
  {
   "cell_type": "code",
   "execution_count": null,
   "id": "e7e1a45f",
   "metadata": {},
   "outputs": [],
   "source": []
  }
 ],
 "metadata": {
  "kernelspec": {
   "display_name": "Python 3 (ipykernel)",
   "language": "python",
   "name": "python3"
  },
  "language_info": {
   "codemirror_mode": {
    "name": "ipython",
    "version": 3
   },
   "file_extension": ".py",
   "mimetype": "text/x-python",
   "name": "python",
   "nbconvert_exporter": "python",
   "pygments_lexer": "ipython3",
   "version": "3.9.13"
  }
 },
 "nbformat": 4,
 "nbformat_minor": 5
}
