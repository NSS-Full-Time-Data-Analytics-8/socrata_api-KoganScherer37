{
 "cells": [
  {
   "cell_type": "code",
   "execution_count": 1,
   "id": "82a72ac8",
   "metadata": {},
   "outputs": [],
   "source": [
    "import requests\n",
    "import pandas as pd\n",
    "import matplotlib.pyplot as plt\n",
    "import seaborn as sns\n",
    "import numpy as np\n",
    "from datetime import datetime as dt\n",
    "import json\n",
    "\n",
    "%matplotlib inline"
   ]
  },
  {
   "cell_type": "code",
   "execution_count": 2,
   "id": "750df40d",
   "metadata": {},
   "outputs": [],
   "source": [
    "endpoint = 'https://data.nashville.gov/resource/fuaa-r5cm.json'"
   ]
  },
  {
   "cell_type": "code",
   "execution_count": 3,
   "id": "8bbcd11e",
   "metadata": {},
   "outputs": [
    {
     "data": {
      "text/plain": [
       "<Response [200]>"
      ]
     },
     "execution_count": 3,
     "metadata": {},
     "output_type": "execute_result"
    }
   ],
   "source": [
    "response = requests.get(endpoint)\n",
    "response"
   ]
  },
  {
   "cell_type": "code",
   "execution_count": 4,
   "id": "f4b03cea",
   "metadata": {},
   "outputs": [],
   "source": [
    "result = response.json()"
   ]
  },
  {
   "cell_type": "code",
   "execution_count": 5,
   "id": "0f0c3de7",
   "metadata": {},
   "outputs": [
    {
     "data": {
      "text/plain": [
       "1000"
      ]
     },
     "execution_count": 5,
     "metadata": {},
     "output_type": "execute_result"
    }
   ],
   "source": [
    "len(result)"
   ]
  },
  {
   "cell_type": "code",
   "execution_count": 6,
   "id": "e5435ac9",
   "metadata": {},
   "outputs": [],
   "source": [
    "# 2016 fire seach endpoint\n",
    "fire_ep = 'https://data.nashville.gov/resource/fuaa-r5cm.json?query_text=fire&year=2016'"
   ]
  },
  {
   "cell_type": "code",
   "execution_count": 7,
   "id": "44216d4a",
   "metadata": {},
   "outputs": [
    {
     "data": {
      "text/plain": [
       "<Response [200]>"
      ]
     },
     "execution_count": 7,
     "metadata": {},
     "output_type": "execute_result"
    }
   ],
   "source": [
    "#fire endpoint response\n",
    "fire_resp = requests.get(fire_ep)\n",
    "fire_resp"
   ]
  },
  {
   "cell_type": "code",
   "execution_count": 8,
   "id": "03c98a6f",
   "metadata": {
    "scrolled": true
   },
   "outputs": [],
   "source": [
    "# converting fire response into json\n",
    "fire_result= fire_resp.json()"
   ]
  },
  {
   "cell_type": "code",
   "execution_count": 9,
   "id": "117f65b7",
   "metadata": {},
   "outputs": [],
   "source": [
    "# pulling out month and query count\n",
    "search_dict = {}\n",
    "\n",
    "for line in fire_result:\n",
    "    month = line.get('month_name')\n",
    "    count = int(line.get('query_count'))\n",
    "    if month in search_dict:\n",
    "        search_dict[month] += count\n",
    "    else:\n",
    "        search_dict[month] = count"
   ]
  },
  {
   "cell_type": "code",
   "execution_count": 10,
   "id": "50e8713d",
   "metadata": {},
   "outputs": [
    {
     "data": {
      "text/html": [
       "<div>\n",
       "<style scoped>\n",
       "    .dataframe tbody tr th:only-of-type {\n",
       "        vertical-align: middle;\n",
       "    }\n",
       "\n",
       "    .dataframe tbody tr th {\n",
       "        vertical-align: top;\n",
       "    }\n",
       "\n",
       "    .dataframe thead th {\n",
       "        text-align: right;\n",
       "    }\n",
       "</style>\n",
       "<table border=\"1\" class=\"dataframe\">\n",
       "  <thead>\n",
       "    <tr style=\"text-align: right;\">\n",
       "      <th></th>\n",
       "      <th>month</th>\n",
       "      <th>search_count</th>\n",
       "    </tr>\n",
       "  </thead>\n",
       "  <tbody>\n",
       "    <tr>\n",
       "      <th>0</th>\n",
       "      <td>January</td>\n",
       "      <td>19</td>\n",
       "    </tr>\n",
       "    <tr>\n",
       "      <th>1</th>\n",
       "      <td>February</td>\n",
       "      <td>35</td>\n",
       "    </tr>\n",
       "    <tr>\n",
       "      <th>2</th>\n",
       "      <td>March</td>\n",
       "      <td>32</td>\n",
       "    </tr>\n",
       "    <tr>\n",
       "      <th>3</th>\n",
       "      <td>April</td>\n",
       "      <td>26</td>\n",
       "    </tr>\n",
       "    <tr>\n",
       "      <th>4</th>\n",
       "      <td>May</td>\n",
       "      <td>24</td>\n",
       "    </tr>\n",
       "    <tr>\n",
       "      <th>5</th>\n",
       "      <td>June</td>\n",
       "      <td>31</td>\n",
       "    </tr>\n",
       "    <tr>\n",
       "      <th>6</th>\n",
       "      <td>July</td>\n",
       "      <td>24</td>\n",
       "    </tr>\n",
       "    <tr>\n",
       "      <th>7</th>\n",
       "      <td>August</td>\n",
       "      <td>47</td>\n",
       "    </tr>\n",
       "    <tr>\n",
       "      <th>8</th>\n",
       "      <td>September</td>\n",
       "      <td>36</td>\n",
       "    </tr>\n",
       "    <tr>\n",
       "      <th>9</th>\n",
       "      <td>October</td>\n",
       "      <td>38</td>\n",
       "    </tr>\n",
       "    <tr>\n",
       "      <th>10</th>\n",
       "      <td>November</td>\n",
       "      <td>32</td>\n",
       "    </tr>\n",
       "    <tr>\n",
       "      <th>11</th>\n",
       "      <td>December</td>\n",
       "      <td>38</td>\n",
       "    </tr>\n",
       "  </tbody>\n",
       "</table>\n",
       "</div>"
      ],
      "text/plain": [
       "        month  search_count\n",
       "0     January            19\n",
       "1    February            35\n",
       "2       March            32\n",
       "3       April            26\n",
       "4         May            24\n",
       "5        June            31\n",
       "6        July            24\n",
       "7      August            47\n",
       "8   September            36\n",
       "9     October            38\n",
       "10   November            32\n",
       "11   December            38"
      ]
     },
     "execution_count": 10,
     "metadata": {},
     "output_type": "execute_result"
    }
   ],
   "source": [
    "#converting to dataframe and setting column names\n",
    "fire_2016_df = pd.DataFrame.from_dict(search_dict, orient = 'index')\n",
    "fire_2016_df = fire_2016_df.reset_index()\n",
    "fire_2016_df.columns = ['month','search_count']\n",
    "fire_2016_df"
   ]
  },
  {
   "cell_type": "markdown",
   "id": "25e75824",
   "metadata": {},
   "source": [
    "##### Question 1. Make an API request that returns the months where \"fire\" was searched in 2016. Which month had the most searches?  \n",
    "\n",
    "Answer: August"
   ]
  },
  {
   "cell_type": "code",
   "execution_count": 11,
   "id": "3c41b302",
   "metadata": {},
   "outputs": [
    {
     "data": {
      "text/plain": [
       "<Response [200]>"
      ]
     },
     "execution_count": 11,
     "metadata": {},
     "output_type": "execute_result"
    }
   ],
   "source": [
    "params_100q_c = { '$where' : 'query_count > 100'}\n",
    "\n",
    "qry_count_resp = requests.get(endpoint, params = params_100q_c)\n",
    "qry_count_resp"
   ]
  },
  {
   "cell_type": "code",
   "execution_count": 12,
   "id": "48c229cb",
   "metadata": {},
   "outputs": [],
   "source": [
    "qry_count_result = qry_count_resp.json()"
   ]
  },
  {
   "cell_type": "code",
   "execution_count": 13,
   "id": "6f896674",
   "metadata": {},
   "outputs": [
    {
     "data": {
      "text/plain": [
       "1000"
      ]
     },
     "execution_count": 13,
     "metadata": {},
     "output_type": "execute_result"
    }
   ],
   "source": [
    "len(qry_count_result)"
   ]
  },
  {
   "cell_type": "markdown",
   "id": "e55a2c6e",
   "metadata": {},
   "source": [
    "#### Question 2. Make an API request that returns all the times a query was run more than 100 times in a month. How many times did this occur?  \n",
    "\n",
    "Answer: 1000"
   ]
  },
  {
   "cell_type": "code",
   "execution_count": 14,
   "id": "2d3a35c6",
   "metadata": {},
   "outputs": [
    {
     "data": {
      "text/plain": [
       "<Response [200]>"
      ]
     },
     "execution_count": 14,
     "metadata": {},
     "output_type": "execute_result"
    }
   ],
   "source": [
    "#params for 100 plus queries per month\n",
    "\n",
    "params_100q = { '$where' : 'query_count > 100',\n",
    "                'query_text' : 'codes'}\n",
    "\n",
    "qry_count_code_resp = requests.get(endpoint, params = params_100q)\n",
    "qry_count_code_resp"
   ]
  },
  {
   "cell_type": "code",
   "execution_count": 15,
   "id": "c7ccd4d3",
   "metadata": {},
   "outputs": [],
   "source": [
    "#converting to json\n",
    "qry_code_count_result = qry_count_code_resp.json()"
   ]
  },
  {
   "cell_type": "code",
   "execution_count": 16,
   "id": "a107a8df",
   "metadata": {},
   "outputs": [],
   "source": [
    "#setting up dictionary\n",
    "query_dict = {}\n",
    "\n",
    "for lines in qry_code_count_result:\n",
    "    months = lines.get('month_name')\n",
    "    counts = int(lines.get('query_count'))\n",
    "    \n",
    "    if months in query_dict:\n",
    "        query_dict[months] += counts\n",
    "    else:\n",
    "        query_dict[months] = counts"
   ]
  },
  {
   "cell_type": "code",
   "execution_count": 17,
   "id": "5c58a4ef",
   "metadata": {},
   "outputs": [
    {
     "data": {
      "text/html": [
       "<div>\n",
       "<style scoped>\n",
       "    .dataframe tbody tr th:only-of-type {\n",
       "        vertical-align: middle;\n",
       "    }\n",
       "\n",
       "    .dataframe tbody tr th {\n",
       "        vertical-align: top;\n",
       "    }\n",
       "\n",
       "    .dataframe thead th {\n",
       "        text-align: right;\n",
       "    }\n",
       "</style>\n",
       "<table border=\"1\" class=\"dataframe\">\n",
       "  <thead>\n",
       "    <tr style=\"text-align: right;\">\n",
       "      <th></th>\n",
       "      <th>month</th>\n",
       "      <th>code_counts</th>\n",
       "    </tr>\n",
       "  </thead>\n",
       "  <tbody>\n",
       "    <tr>\n",
       "      <th>0</th>\n",
       "      <td>September</td>\n",
       "      <td>696</td>\n",
       "    </tr>\n",
       "    <tr>\n",
       "      <th>1</th>\n",
       "      <td>April</td>\n",
       "      <td>741</td>\n",
       "    </tr>\n",
       "    <tr>\n",
       "      <th>2</th>\n",
       "      <td>August</td>\n",
       "      <td>1002</td>\n",
       "    </tr>\n",
       "    <tr>\n",
       "      <th>3</th>\n",
       "      <td>November</td>\n",
       "      <td>577</td>\n",
       "    </tr>\n",
       "    <tr>\n",
       "      <th>4</th>\n",
       "      <td>December</td>\n",
       "      <td>414</td>\n",
       "    </tr>\n",
       "    <tr>\n",
       "      <th>5</th>\n",
       "      <td>May</td>\n",
       "      <td>858</td>\n",
       "    </tr>\n",
       "    <tr>\n",
       "      <th>6</th>\n",
       "      <td>July</td>\n",
       "      <td>820</td>\n",
       "    </tr>\n",
       "    <tr>\n",
       "      <th>7</th>\n",
       "      <td>January</td>\n",
       "      <td>596</td>\n",
       "    </tr>\n",
       "    <tr>\n",
       "      <th>8</th>\n",
       "      <td>February</td>\n",
       "      <td>707</td>\n",
       "    </tr>\n",
       "    <tr>\n",
       "      <th>9</th>\n",
       "      <td>June</td>\n",
       "      <td>867</td>\n",
       "    </tr>\n",
       "    <tr>\n",
       "      <th>10</th>\n",
       "      <td>March</td>\n",
       "      <td>774</td>\n",
       "    </tr>\n",
       "    <tr>\n",
       "      <th>11</th>\n",
       "      <td>October</td>\n",
       "      <td>678</td>\n",
       "    </tr>\n",
       "  </tbody>\n",
       "</table>\n",
       "</div>"
      ],
      "text/plain": [
       "        month  code_counts\n",
       "0   September          696\n",
       "1       April          741\n",
       "2      August         1002\n",
       "3    November          577\n",
       "4    December          414\n",
       "5         May          858\n",
       "6        July          820\n",
       "7     January          596\n",
       "8    February          707\n",
       "9        June          867\n",
       "10      March          774\n",
       "11    October          678"
      ]
     },
     "execution_count": 17,
     "metadata": {},
     "output_type": "execute_result"
    }
   ],
   "source": [
    "#turning dictionary into dataframe\n",
    "qry_count_df = pd.DataFrame.from_dict(query_dict, orient = 'index')\n",
    "qry_count_df = qry_count_df.reset_index()\n",
    "qry_count_df.columns = ['month','code_counts']\n",
    "qry_count_df"
   ]
  },
  {
   "cell_type": "code",
   "execution_count": 18,
   "id": "79407c83",
   "metadata": {},
   "outputs": [
    {
     "data": {
      "text/plain": [
       "56"
      ]
     },
     "execution_count": 18,
     "metadata": {},
     "output_type": "execute_result"
    }
   ],
   "source": [
    "#total code counts\n",
    "len(qry_code_count_result)"
   ]
  },
  {
   "cell_type": "markdown",
   "id": "93ae6470",
   "metadata": {},
   "source": [
    "#### Question 3. Make another API request that returns all the times \"codes\" was searched more than 100 times in a month. How many times did this occur? \n",
    "\n",
    "Answer: 56"
   ]
  },
  {
   "cell_type": "markdown",
   "id": "794070c7",
   "metadata": {},
   "source": [
    "#### Question 4. A) Make an API request that returns the entire Top 500 Monthly Searches dataset. "
   ]
  },
  {
   "cell_type": "code",
   "execution_count": 19,
   "id": "f31533a0",
   "metadata": {},
   "outputs": [
    {
     "data": {
      "text/plain": [
       "<Response [200]>"
      ]
     },
     "execution_count": 19,
     "metadata": {},
     "output_type": "execute_result"
    }
   ],
   "source": [
    "#parameters for full dataset\n",
    "params_full_ds = {'$limit' : '50000'}\n",
    "\n",
    "full_dataset_resp = requests.get(endpoint, params = params_full_ds)\n",
    "full_dataset_resp"
   ]
  },
  {
   "cell_type": "code",
   "execution_count": 20,
   "id": "3cfc9f20",
   "metadata": {},
   "outputs": [],
   "source": [
    "full_dataset_result = full_dataset_resp.json()"
   ]
  },
  {
   "cell_type": "code",
   "execution_count": 21,
   "id": "92c4939b",
   "metadata": {},
   "outputs": [
    {
     "data": {
      "text/plain": [
       "43677"
      ]
     },
     "execution_count": 21,
     "metadata": {},
     "output_type": "execute_result"
    }
   ],
   "source": [
    "len(full_dataset_result)"
   ]
  },
  {
   "cell_type": "code",
   "execution_count": 22,
   "id": "d214dc74",
   "metadata": {},
   "outputs": [
    {
     "data": {
      "text/plain": [
       "<Response [200]>"
      ]
     },
     "execution_count": 22,
     "metadata": {},
     "output_type": "execute_result"
    }
   ],
   "source": [
    "#parameters for maps dataset\n",
    "params_maps_ds = {'$limit' : '50000',\n",
    "                  'query_text' : 'maps'}\n",
    "\n",
    "map_dataset_resp = requests.get(endpoint, params = params_maps_ds)\n",
    "map_dataset_resp"
   ]
  },
  {
   "cell_type": "code",
   "execution_count": 23,
   "id": "1b5a371e",
   "metadata": {},
   "outputs": [],
   "source": [
    "map_searches = map_dataset_resp.json()"
   ]
  },
  {
   "cell_type": "code",
   "execution_count": 24,
   "id": "4feca2f0",
   "metadata": {},
   "outputs": [
    {
     "data": {
      "text/plain": [
       "82"
      ]
     },
     "execution_count": 24,
     "metadata": {},
     "output_type": "execute_result"
    }
   ],
   "source": [
    "len(map_searches)"
   ]
  },
  {
   "cell_type": "code",
   "execution_count": 25,
   "id": "466c3f1d",
   "metadata": {},
   "outputs": [],
   "source": [
    "#setting up map dictionary\n",
    "map_dict = {}\n",
    "\n",
    "for lines in map_searches:\n",
    "    months = lines.get('month_name')\n",
    "    searches = int(lines.get('query_count'))\n",
    "    \n",
    "    if months in map_dict:\n",
    "        map_dict[months] += searches\n",
    "    else:\n",
    "        map_dict[months] = searches"
   ]
  },
  {
   "cell_type": "code",
   "execution_count": 26,
   "id": "5cba1fd6",
   "metadata": {},
   "outputs": [
    {
     "data": {
      "text/html": [
       "<div>\n",
       "<style scoped>\n",
       "    .dataframe tbody tr th:only-of-type {\n",
       "        vertical-align: middle;\n",
       "    }\n",
       "\n",
       "    .dataframe tbody tr th {\n",
       "        vertical-align: top;\n",
       "    }\n",
       "\n",
       "    .dataframe thead th {\n",
       "        text-align: right;\n",
       "    }\n",
       "</style>\n",
       "<table border=\"1\" class=\"dataframe\">\n",
       "  <thead>\n",
       "    <tr style=\"text-align: right;\">\n",
       "      <th></th>\n",
       "      <th>month</th>\n",
       "      <th>searches</th>\n",
       "    </tr>\n",
       "  </thead>\n",
       "  <tbody>\n",
       "    <tr>\n",
       "      <th>0</th>\n",
       "      <td>January</td>\n",
       "      <td>924</td>\n",
       "    </tr>\n",
       "    <tr>\n",
       "      <th>1</th>\n",
       "      <td>February</td>\n",
       "      <td>832</td>\n",
       "    </tr>\n",
       "    <tr>\n",
       "      <th>2</th>\n",
       "      <td>March</td>\n",
       "      <td>1090</td>\n",
       "    </tr>\n",
       "    <tr>\n",
       "      <th>3</th>\n",
       "      <td>April</td>\n",
       "      <td>1309</td>\n",
       "    </tr>\n",
       "    <tr>\n",
       "      <th>4</th>\n",
       "      <td>May</td>\n",
       "      <td>1019</td>\n",
       "    </tr>\n",
       "    <tr>\n",
       "      <th>5</th>\n",
       "      <td>June</td>\n",
       "      <td>1216</td>\n",
       "    </tr>\n",
       "    <tr>\n",
       "      <th>6</th>\n",
       "      <td>July</td>\n",
       "      <td>1062</td>\n",
       "    </tr>\n",
       "    <tr>\n",
       "      <th>7</th>\n",
       "      <td>August</td>\n",
       "      <td>991</td>\n",
       "    </tr>\n",
       "    <tr>\n",
       "      <th>8</th>\n",
       "      <td>September</td>\n",
       "      <td>951</td>\n",
       "    </tr>\n",
       "    <tr>\n",
       "      <th>9</th>\n",
       "      <td>October</td>\n",
       "      <td>981</td>\n",
       "    </tr>\n",
       "    <tr>\n",
       "      <th>10</th>\n",
       "      <td>November</td>\n",
       "      <td>805</td>\n",
       "    </tr>\n",
       "    <tr>\n",
       "      <th>11</th>\n",
       "      <td>December</td>\n",
       "      <td>556</td>\n",
       "    </tr>\n",
       "  </tbody>\n",
       "</table>\n",
       "</div>"
      ],
      "text/plain": [
       "        month  searches\n",
       "0     January       924\n",
       "1    February       832\n",
       "2       March      1090\n",
       "3       April      1309\n",
       "4         May      1019\n",
       "5        June      1216\n",
       "6        July      1062\n",
       "7      August       991\n",
       "8   September       951\n",
       "9     October       981\n",
       "10   November       805\n",
       "11   December       556"
      ]
     },
     "execution_count": 26,
     "metadata": {},
     "output_type": "execute_result"
    }
   ],
   "source": [
    "#Making maps dataframe\n",
    "maps_df = pd.DataFrame.from_dict(map_dict, orient = 'index')\n",
    "maps_df = maps_df.reset_index()\n",
    "maps_df.columns = ['month','searches']\n",
    "maps_df"
   ]
  },
  {
   "cell_type": "markdown",
   "id": "61481cad",
   "metadata": {},
   "source": [
    "#### Question 4. B) Make a chart that shows the number of times \"maps\" was searched in a month across the entire time frame."
   ]
  },
  {
   "cell_type": "code",
   "execution_count": 27,
   "id": "09a19911",
   "metadata": {},
   "outputs": [
    {
     "data": {
      "image/png": "[encoded data removed]",
      "text/plain": [
       "<Figure size 1500x1000 with 1 Axes>"
      ]
     },
     "metadata": {},
     "output_type": "display_data"
    }
   ],
   "source": [
    "#Horizontal bar plot for map searches per month\n",
    "font_axes = {'family': 'monospace', 'weight': 'heavy', 'size': 12, 'color' : 'midnightblue'}\n",
    "font_title = {'family': 'monospace', 'weight': 'heavy', 'size': 18, 'color' : 'midnightblue'}\n",
    "\n",
    "ax = maps_df.plot.barh(x = 'month',\n",
    "                       y = 'searches',\n",
    "                       legend = None,\n",
    "                       figsize = (15,10),\n",
    "                       color = ('darkturquoise'))\n",
    "\n",
    "ax.set_facecolor('whitesmoke')\n",
    "\n",
    "plt.xlabel('Map Seaches', fontdict = font_axes)\n",
    "plt.ylabel('Month', fontdict = font_axes)\n",
    "plt.title('Map Searches Per Month', fontdict = font_title);"
   ]
  },
  {
   "cell_type": "code",
   "execution_count": 28,
   "id": "3b6d60ba",
   "metadata": {},
   "outputs": [],
   "source": [
    "hub_endpoint = 'https://data.nashville.gov/resource/7qhx-rexh.json'"
   ]
  },
  {
   "cell_type": "code",
   "execution_count": 29,
   "id": "71566437",
   "metadata": {},
   "outputs": [
    {
     "data": {
      "text/plain": [
       "<Response [200]>"
      ]
     },
     "execution_count": 29,
     "metadata": {},
     "output_type": "execute_result"
    }
   ],
   "source": [
    "#parameters for full hubNashville dataset\n",
    "params_full_hub = {'$limit' : '1500000'}\n",
    "\n",
    "full_hub_resp = requests.get(hub_endpoint, params = params_full_hub)\n",
    "full_hub_resp"
   ]
  },
  {
   "cell_type": "code",
   "execution_count": 30,
   "id": "a59536df",
   "metadata": {},
   "outputs": [],
   "source": [
    "hub_result = full_hub_resp.json()"
   ]
  },
  {
   "cell_type": "code",
   "execution_count": 31,
   "id": "ec8a481b",
   "metadata": {},
   "outputs": [
    {
     "data": {
      "text/plain": [
       "1067473"
      ]
     },
     "execution_count": 31,
     "metadata": {},
     "output_type": "execute_result"
    }
   ],
   "source": [
    "len(hub_result)"
   ]
  },
  {
   "cell_type": "code",
   "execution_count": 32,
   "id": "0430a9cc",
   "metadata": {},
   "outputs": [
    {
     "data": {
      "text/plain": [
       "43677"
      ]
     },
     "execution_count": 32,
     "metadata": {},
     "output_type": "execute_result"
    }
   ],
   "source": [
    "len(full_dataset_result)"
   ]
  },
  {
   "cell_type": "markdown",
   "id": "c879fc7a",
   "metadata": {},
   "source": [
    "#### Question 5. Make an API request to pull back all the data from [hubNashville (311) Service Requests](https://data.nashville.gov/Public-Services/hubNashville-311-Service-Requests/7qhx-rexh) (check to see how many rows you can return in a single request). Compare it to the Top 500 Monthly Searches data set. What do you observe? (This is open-ended, there isn't a specific answer for this one) \n",
    "\n",
    "Answer: Not only is the hubNashville data set significantly larger with entries but there are also a significant amount more criteria to search on."
   ]
  },
  {
   "cell_type": "markdown",
   "id": "05b2f91b",
   "metadata": {},
   "source": [
    "#### Question 6. Find 2 new data sets on data.nashville.gov, make API requests to pull the data, and do an analysis that combines the data sets.\n",
    "\n",
    "Answer: I chose the fire stations and fire active incidents data sets to see what stations reported to what incidents based on zip codes along with the types of units dispatched to each incident."
   ]
  },
  {
   "cell_type": "code",
   "execution_count": 33,
   "id": "90a825a9",
   "metadata": {},
   "outputs": [],
   "source": [
    "#fire stations endpoint API\n",
    "fire_stat_endpoint = 'https://data.nashville.gov/resource/frq9-a5iv.json'"
   ]
  },
  {
   "cell_type": "code",
   "execution_count": 34,
   "id": "db03d955",
   "metadata": {},
   "outputs": [
    {
     "data": {
      "text/plain": [
       "<Response [200]>"
      ]
     },
     "execution_count": 34,
     "metadata": {},
     "output_type": "execute_result"
    }
   ],
   "source": [
    "#parameters for pulling in entire dataset for fire stations and response code check\n",
    "params_fire_st = {'$limit': '100'}\n",
    "\n",
    "fire_st_resp = requests.get(fire_stat_endpoint, params = params_fire_st)\n",
    "fire_st_resp"
   ]
  },
  {
   "cell_type": "code",
   "execution_count": 35,
   "id": "a2492531",
   "metadata": {},
   "outputs": [],
   "source": [
    "#turning fire station response into json\n",
    "fire_stations = fire_st_resp.json()"
   ]
  },
  {
   "cell_type": "code",
   "execution_count": 36,
   "id": "9c743d24",
   "metadata": {},
   "outputs": [
    {
     "data": {
      "text/plain": [
       "39"
      ]
     },
     "execution_count": 36,
     "metadata": {},
     "output_type": "execute_result"
    }
   ],
   "source": [
    "#checking length of fire station set\n",
    "len(fire_stations)"
   ]
  },
  {
   "cell_type": "code",
   "execution_count": 37,
   "id": "88ec8105",
   "metadata": {},
   "outputs": [],
   "source": [
    "#fire incident response API\n",
    "fire_inc_endpoint = 'https://data.nashville.gov/resource/jwgg-8gg4.json'"
   ]
  },
  {
   "cell_type": "code",
   "execution_count": 38,
   "id": "e14a8373",
   "metadata": {},
   "outputs": [
    {
     "data": {
      "text/plain": [
       "<Response [200]>"
      ]
     },
     "execution_count": 38,
     "metadata": {},
     "output_type": "execute_result"
    }
   ],
   "source": [
    "#parameters for pulling in entire dataset for fire incidents set and response code check\n",
    "params_fire_inc = {'$limit': '100'}\n",
    "\n",
    "fire_inc_resp = requests.get(fire_inc_endpoint, params = params_fire_inc)\n",
    "fire_inc_resp"
   ]
  },
  {
   "cell_type": "code",
   "execution_count": 39,
   "id": "e6fd5baa",
   "metadata": {},
   "outputs": [],
   "source": [
    "#turning fire incident response into json\n",
    "fire_incidents = fire_inc_resp.json()"
   ]
  },
  {
   "cell_type": "code",
   "execution_count": 40,
   "id": "79e29fab",
   "metadata": {},
   "outputs": [
    {
     "data": {
      "text/plain": [
       "46"
      ]
     },
     "execution_count": 40,
     "metadata": {},
     "output_type": "execute_result"
    }
   ],
   "source": [
    "#checking length of fire incidents\n",
    "len(fire_incidents)"
   ]
  },
  {
   "cell_type": "code",
   "execution_count": 41,
   "id": "fd94fe68",
   "metadata": {},
   "outputs": [
    {
     "data": {
      "text/html": [
       "<div>\n",
       "<style scoped>\n",
       "    .dataframe tbody tr th:only-of-type {\n",
       "        vertical-align: middle;\n",
       "    }\n",
       "\n",
       "    .dataframe tbody tr th {\n",
       "        vertical-align: top;\n",
       "    }\n",
       "\n",
       "    .dataframe thead th {\n",
       "        text-align: right;\n",
       "    }\n",
       "</style>\n",
       "<table border=\"1\" class=\"dataframe\">\n",
       "  <thead>\n",
       "    <tr style=\"text-align: right;\">\n",
       "      <th></th>\n",
       "      <th>station</th>\n",
       "      <th>zip</th>\n",
       "      <th>city</th>\n",
       "    </tr>\n",
       "  </thead>\n",
       "  <tbody>\n",
       "    <tr>\n",
       "      <th>0</th>\n",
       "      <td>Station 1</td>\n",
       "      <td>37207</td>\n",
       "      <td>Nashville</td>\n",
       "    </tr>\n",
       "    <tr>\n",
       "      <th>1</th>\n",
       "      <td>Station 10</td>\n",
       "      <td>37211</td>\n",
       "      <td>Nashville</td>\n",
       "    </tr>\n",
       "    <tr>\n",
       "      <th>2</th>\n",
       "      <td>Station 11</td>\n",
       "      <td>37208</td>\n",
       "      <td>Nashville</td>\n",
       "    </tr>\n",
       "    <tr>\n",
       "      <th>3</th>\n",
       "      <td>Station 12</td>\n",
       "      <td>37210</td>\n",
       "      <td>Nashville</td>\n",
       "    </tr>\n",
       "    <tr>\n",
       "      <th>4</th>\n",
       "      <td>Station 13</td>\n",
       "      <td>37209</td>\n",
       "      <td>Nashville</td>\n",
       "    </tr>\n",
       "  </tbody>\n",
       "</table>\n",
       "</div>"
      ],
      "text/plain": [
       "      station    zip       city\n",
       "0   Station 1  37207  Nashville\n",
       "1  Station 10  37211  Nashville\n",
       "2  Station 11  37208  Nashville\n",
       "3  Station 12  37210  Nashville\n",
       "4  Station 13  37209  Nashville"
      ]
     },
     "execution_count": 41,
     "metadata": {},
     "output_type": "execute_result"
    }
   ],
   "source": [
    "#dataframe for fire stations\n",
    "fire_station_df = pd.DataFrame(fire_stations, columns = {'station_number','street_address','city','zip_code'})\n",
    "fire_station_df = fire_station_df.rename(columns = {'station_number':'station','street_address':'address',\n",
    "                                                    'zip_code':'zip'})\n",
    "fire_station_df = fire_station_df[['station','zip','city']]\n",
    "fire_station_df.head()"
   ]
  },
  {
   "cell_type": "code",
   "execution_count": 42,
   "id": "e8aa674b",
   "metadata": {},
   "outputs": [
    {
     "data": {
      "text/html": [
       "<div>\n",
       "<style scoped>\n",
       "    .dataframe tbody tr th:only-of-type {\n",
       "        vertical-align: middle;\n",
       "    }\n",
       "\n",
       "    .dataframe tbody tr th {\n",
       "        vertical-align: top;\n",
       "    }\n",
       "\n",
       "    .dataframe thead th {\n",
       "        text-align: right;\n",
       "    }\n",
       "</style>\n",
       "<table border=\"1\" class=\"dataframe\">\n",
       "  <thead>\n",
       "    <tr style=\"text-align: right;\">\n",
       "      <th></th>\n",
       "      <th>incident</th>\n",
       "      <th>incident_id</th>\n",
       "      <th>zip</th>\n",
       "      <th>date</th>\n",
       "      <th>time</th>\n",
       "      <th>units_dispatched</th>\n",
       "    </tr>\n",
       "  </thead>\n",
       "  <tbody>\n",
       "    <tr>\n",
       "      <th>0</th>\n",
       "      <td>MVA</td>\n",
       "      <td>FFD22111700145527</td>\n",
       "      <td>37076</td>\n",
       "      <td>2022-11-17</td>\n",
       "      <td>15:38:24.300</td>\n",
       "      <td>EN32</td>\n",
       "    </tr>\n",
       "    <tr>\n",
       "      <th>1</th>\n",
       "      <td>MVA</td>\n",
       "      <td>FFD22111700145527</td>\n",
       "      <td>37076</td>\n",
       "      <td>2022-11-17</td>\n",
       "      <td>15:38:24.300</td>\n",
       "      <td>TR28</td>\n",
       "    </tr>\n",
       "    <tr>\n",
       "      <th>2</th>\n",
       "      <td>MVA</td>\n",
       "      <td>FFD22111700145527</td>\n",
       "      <td>37076</td>\n",
       "      <td>2022-11-17</td>\n",
       "      <td>15:38:24.300</td>\n",
       "      <td>MED32</td>\n",
       "    </tr>\n",
       "    <tr>\n",
       "      <th>3</th>\n",
       "      <td>BREATHING</td>\n",
       "      <td>FFD22111700145526</td>\n",
       "      <td>37115</td>\n",
       "      <td>2022-11-17</td>\n",
       "      <td>15:37:07.980</td>\n",
       "      <td>EN31</td>\n",
       "    </tr>\n",
       "    <tr>\n",
       "      <th>4</th>\n",
       "      <td>BREATHING</td>\n",
       "      <td>FFD22111700145526</td>\n",
       "      <td>37115</td>\n",
       "      <td>2022-11-17</td>\n",
       "      <td>15:37:07.980</td>\n",
       "      <td>MED31</td>\n",
       "    </tr>\n",
       "  </tbody>\n",
       "</table>\n",
       "</div>"
      ],
      "text/plain": [
       "    incident        incident_id    zip        date          time  \\\n",
       "0        MVA  FFD22111700145527  37076  2022-11-17  15:38:24.300   \n",
       "1        MVA  FFD22111700145527  37076  2022-11-17  15:38:24.300   \n",
       "2        MVA  FFD22111700145527  37076  2022-11-17  15:38:24.300   \n",
       "3  BREATHING  FFD22111700145526  37115  2022-11-17  15:37:07.980   \n",
       "4  BREATHING  FFD22111700145526  37115  2022-11-17  15:37:07.980   \n",
       "\n",
       "  units_dispatched  \n",
       "0             EN32  \n",
       "1             TR28  \n",
       "2            MED32  \n",
       "3             EN31  \n",
       "4            MED31  "
      ]
     },
     "execution_count": 42,
     "metadata": {},
     "output_type": "execute_result"
    }
   ],
   "source": [
    "#dataframe for fire incidents\n",
    "fire_inc_df = pd.DataFrame(fire_incidents)\n",
    "fire_inc_df = fire_inc_df.rename(columns = {'postal_code':'zip','incident_type':'incident','incident_number':'incident_id'})\n",
    "fire_inc_df[['date','time']]= fire_inc_df['dispatch_time'].str.split('T',expand = True)\n",
    "fire_inc_df = fire_inc_df[['incident','incident_id','zip','date','time','units_dispatched']]\n",
    "\n",
    "fire_inc_df.head()"
   ]
  },
  {
   "cell_type": "code",
   "execution_count": 43,
   "id": "acb914f2",
   "metadata": {},
   "outputs": [
    {
     "name": "stdout",
     "output_type": "stream",
     "text": [
      "<class 'pandas.core.frame.DataFrame'>\n",
      "RangeIndex: 46 entries, 0 to 45\n",
      "Data columns (total 6 columns):\n",
      " #   Column            Non-Null Count  Dtype \n",
      "---  ------            --------------  ----- \n",
      " 0   incident          46 non-null     object\n",
      " 1   incident_id       46 non-null     object\n",
      " 2   zip               46 non-null     object\n",
      " 3   date              46 non-null     object\n",
      " 4   time              46 non-null     object\n",
      " 5   units_dispatched  46 non-null     object\n",
      "dtypes: object(6)\n",
      "memory usage: 2.3+ KB\n"
     ]
    }
   ],
   "source": [
    "fire_inc_df.info()"
   ]
  },
  {
   "cell_type": "code",
   "execution_count": 44,
   "id": "1d164f55",
   "metadata": {},
   "outputs": [
    {
     "name": "stdout",
     "output_type": "stream",
     "text": [
      "<class 'pandas.core.frame.DataFrame'>\n",
      "RangeIndex: 46 entries, 0 to 45\n",
      "Data columns (total 6 columns):\n",
      " #   Column            Non-Null Count  Dtype         \n",
      "---  ------            --------------  -----         \n",
      " 0   incident          46 non-null     object        \n",
      " 1   incident_id       46 non-null     object        \n",
      " 2   zip               46 non-null     object        \n",
      " 3   date              46 non-null     object        \n",
      " 4   time              46 non-null     datetime64[ns]\n",
      " 5   units_dispatched  46 non-null     object        \n",
      "dtypes: datetime64[ns](1), object(5)\n",
      "memory usage: 2.3+ KB\n"
     ]
    }
   ],
   "source": [
    "#converting time column to datetime\n",
    "fire_inc_df['time'] = pd.to_datetime(fire_inc_df['time'])\n",
    "fire_inc_df.info()"
   ]
  },
  {
   "cell_type": "code",
   "execution_count": 45,
   "id": "cfae8ac5",
   "metadata": {},
   "outputs": [
    {
     "data": {
      "text/html": [
       "<div>\n",
       "<style scoped>\n",
       "    .dataframe tbody tr th:only-of-type {\n",
       "        vertical-align: middle;\n",
       "    }\n",
       "\n",
       "    .dataframe tbody tr th {\n",
       "        vertical-align: top;\n",
       "    }\n",
       "\n",
       "    .dataframe thead th {\n",
       "        text-align: right;\n",
       "    }\n",
       "</style>\n",
       "<table border=\"1\" class=\"dataframe\">\n",
       "  <thead>\n",
       "    <tr style=\"text-align: right;\">\n",
       "      <th></th>\n",
       "      <th>incident</th>\n",
       "      <th>incident_id</th>\n",
       "      <th>zip</th>\n",
       "      <th>date</th>\n",
       "      <th>time</th>\n",
       "      <th>units_dispatched</th>\n",
       "    </tr>\n",
       "  </thead>\n",
       "  <tbody>\n",
       "    <tr>\n",
       "      <th>0</th>\n",
       "      <td>MVA</td>\n",
       "      <td>FFD22111700145527</td>\n",
       "      <td>37076</td>\n",
       "      <td>2022-11-17</td>\n",
       "      <td>15:38</td>\n",
       "      <td>EN32</td>\n",
       "    </tr>\n",
       "    <tr>\n",
       "      <th>1</th>\n",
       "      <td>MVA</td>\n",
       "      <td>FFD22111700145527</td>\n",
       "      <td>37076</td>\n",
       "      <td>2022-11-17</td>\n",
       "      <td>15:38</td>\n",
       "      <td>TR28</td>\n",
       "    </tr>\n",
       "    <tr>\n",
       "      <th>2</th>\n",
       "      <td>MVA</td>\n",
       "      <td>FFD22111700145527</td>\n",
       "      <td>37076</td>\n",
       "      <td>2022-11-17</td>\n",
       "      <td>15:38</td>\n",
       "      <td>MED32</td>\n",
       "    </tr>\n",
       "    <tr>\n",
       "      <th>3</th>\n",
       "      <td>BREATHING</td>\n",
       "      <td>FFD22111700145526</td>\n",
       "      <td>37115</td>\n",
       "      <td>2022-11-17</td>\n",
       "      <td>15:37</td>\n",
       "      <td>EN31</td>\n",
       "    </tr>\n",
       "    <tr>\n",
       "      <th>4</th>\n",
       "      <td>BREATHING</td>\n",
       "      <td>FFD22111700145526</td>\n",
       "      <td>37115</td>\n",
       "      <td>2022-11-17</td>\n",
       "      <td>15:37</td>\n",
       "      <td>MED31</td>\n",
       "    </tr>\n",
       "  </tbody>\n",
       "</table>\n",
       "</div>"
      ],
      "text/plain": [
       "    incident        incident_id    zip        date   time units_dispatched\n",
       "0        MVA  FFD22111700145527  37076  2022-11-17  15:38             EN32\n",
       "1        MVA  FFD22111700145527  37076  2022-11-17  15:38             TR28\n",
       "2        MVA  FFD22111700145527  37076  2022-11-17  15:38            MED32\n",
       "3  BREATHING  FFD22111700145526  37115  2022-11-17  15:37             EN31\n",
       "4  BREATHING  FFD22111700145526  37115  2022-11-17  15:37            MED31"
      ]
     },
     "execution_count": 45,
     "metadata": {},
     "output_type": "execute_result"
    }
   ],
   "source": [
    "#changing time format\n",
    "fire_inc_df['time']= fire_inc_df['time'].dt.strftime('%H:%M')\n",
    "fire_inc_df.head()"
   ]
  },
  {
   "cell_type": "code",
   "execution_count": 46,
   "id": "b4368575",
   "metadata": {},
   "outputs": [
    {
     "data": {
      "text/html": [
       "<div>\n",
       "<style scoped>\n",
       "    .dataframe tbody tr th:only-of-type {\n",
       "        vertical-align: middle;\n",
       "    }\n",
       "\n",
       "    .dataframe tbody tr th {\n",
       "        vertical-align: top;\n",
       "    }\n",
       "\n",
       "    .dataframe thead th {\n",
       "        text-align: right;\n",
       "    }\n",
       "</style>\n",
       "<table border=\"1\" class=\"dataframe\">\n",
       "  <thead>\n",
       "    <tr style=\"text-align: right;\">\n",
       "      <th></th>\n",
       "      <th>station</th>\n",
       "      <th>zip</th>\n",
       "      <th>city</th>\n",
       "      <th>incident</th>\n",
       "      <th>incident_id</th>\n",
       "      <th>date</th>\n",
       "      <th>time</th>\n",
       "      <th>units_dispatched</th>\n",
       "    </tr>\n",
       "  </thead>\n",
       "  <tbody>\n",
       "    <tr>\n",
       "      <th>0</th>\n",
       "      <td>Station 10</td>\n",
       "      <td>37211</td>\n",
       "      <td>Nashville</td>\n",
       "      <td>MVAROLL</td>\n",
       "      <td>FFD22111700145516</td>\n",
       "      <td>2022-11-17</td>\n",
       "      <td>15:21</td>\n",
       "      <td>EN06</td>\n",
       "    </tr>\n",
       "    <tr>\n",
       "      <th>1</th>\n",
       "      <td>Station 10</td>\n",
       "      <td>37211</td>\n",
       "      <td>Nashville</td>\n",
       "      <td>MVA</td>\n",
       "      <td>FFD22111700145518</td>\n",
       "      <td>2022-11-17</td>\n",
       "      <td>15:21</td>\n",
       "      <td>MED33</td>\n",
       "    </tr>\n",
       "    <tr>\n",
       "      <th>2</th>\n",
       "      <td>Station 10</td>\n",
       "      <td>37211</td>\n",
       "      <td>Nashville</td>\n",
       "      <td>PSYCH</td>\n",
       "      <td>FFD22111700145519</td>\n",
       "      <td>2022-11-17</td>\n",
       "      <td>15:16</td>\n",
       "      <td>MED12</td>\n",
       "    </tr>\n",
       "    <tr>\n",
       "      <th>3</th>\n",
       "      <td>Station 10</td>\n",
       "      <td>37211</td>\n",
       "      <td>Nashville</td>\n",
       "      <td>PSYCH</td>\n",
       "      <td>FFD22111700145519</td>\n",
       "      <td>2022-11-17</td>\n",
       "      <td>15:16</td>\n",
       "      <td>EN26</td>\n",
       "    </tr>\n",
       "    <tr>\n",
       "      <th>4</th>\n",
       "      <td>Station 10</td>\n",
       "      <td>37211</td>\n",
       "      <td>Nashville</td>\n",
       "      <td>MVAROLL</td>\n",
       "      <td>FFD22111700145516</td>\n",
       "      <td>2022-11-17</td>\n",
       "      <td>15:14</td>\n",
       "      <td>MED10</td>\n",
       "    </tr>\n",
       "  </tbody>\n",
       "</table>\n",
       "</div>"
      ],
      "text/plain": [
       "      station    zip       city incident        incident_id        date  \\\n",
       "0  Station 10  37211  Nashville  MVAROLL  FFD22111700145516  2022-11-17   \n",
       "1  Station 10  37211  Nashville      MVA  FFD22111700145518  2022-11-17   \n",
       "2  Station 10  37211  Nashville    PSYCH  FFD22111700145519  2022-11-17   \n",
       "3  Station 10  37211  Nashville    PSYCH  FFD22111700145519  2022-11-17   \n",
       "4  Station 10  37211  Nashville  MVAROLL  FFD22111700145516  2022-11-17   \n",
       "\n",
       "    time units_dispatched  \n",
       "0  15:21             EN06  \n",
       "1  15:21            MED33  \n",
       "2  15:16            MED12  \n",
       "3  15:16             EN26  \n",
       "4  15:14            MED10  "
      ]
     },
     "execution_count": 46,
     "metadata": {},
     "output_type": "execute_result"
    }
   ],
   "source": [
    "#merging fire station and fire incident dataframes\n",
    "fire_dept_activity = fire_station_df.merge(fire_inc_df, on = 'zip', how = 'inner')\n",
    "fire_dept_activity.head()"
   ]
  },
  {
   "cell_type": "code",
   "execution_count": null,
   "id": "6393b12e",
   "metadata": {},
   "outputs": [],
   "source": []
  }
 ],
 "metadata": {
  "kernelspec": {
   "display_name": "Python 3 (ipykernel)",
   "language": "python",
   "name": "python3"
  },
  "language_info": {
   "codemirror_mode": {
    "name": "ipython",
    "version": 3
   },
   "file_extension": ".py",
   "mimetype": "text/x-python",
   "name": "python",
   "nbconvert_exporter": "python",
   "pygments_lexer": "ipython3",
   "version": "3.9.13"
  }
 },
 "nbformat": 4,
 "nbformat_minor": 5
}
